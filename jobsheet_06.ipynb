{
  "nbformat": 4,
  "nbformat_minor": 0,
  "metadata": {
    "colab": {
      "provenance": [],
      "authorship_tag": "ABX9TyM+OZxuAAcvkGyUrzahHMl2",
      "include_colab_link": true
    },
    "kernelspec": {
      "name": "python3",
      "display_name": "Python 3"
    },
    "language_info": {
      "name": "python"
    }
  },
  "cells": [
    {
      "cell_type": "markdown",
      "metadata": {
        "id": "view-in-github",
        "colab_type": "text"
      },
      "source": [
        "<a href=\"https://colab.research.google.com/github/terra2n/2025_KB_TI-1C/blob/main/jobsheet_06.ipynb\" target=\"_parent\"><img src=\"https://colab.research.google.com/assets/colab-badge.svg\" alt=\"Open In Colab\"/></a>"
      ]
    },
    {
      "cell_type": "markdown",
      "source": [
        "# Langkah Praktikum"
      ],
      "metadata": {
        "id": "P2DOjswM03Ec"
      }
    },
    {
      "cell_type": "markdown",
      "source": [
        "## Praktikum 01 : Mendefinisikan Kelasa Abstrak Sederhana"
      ],
      "metadata": {
        "id": "Pn__YapA1Kf1"
      }
    },
    {
      "cell_type": "code",
      "source": [
        "from abc import ABC, abstractmethod\n",
        "\n",
        "class KendaraanAbstrak(ABC):\n",
        "  def __init__(self, merk):\n",
        "    self.merk = merk\n",
        "    print(f\"Inisialisasi KendaraanAbstrak dengan merk: {self.merk}.\")\n",
        "\n",
        "  def info_merk(self):\n",
        "    print(f\"Merk Kendaraan ini adalah {self.merk}.\")\n",
        "\n",
        "  @abstractmethod\n",
        "  def start_mesin(self):\n",
        "    print(f\"Mesin mobil {self.merk} dinyalakan.\")\n",
        "\n",
        "  def stop_mesin(self):\n",
        "    print(f\"Mesin mobil {self.merk} dimatikan.\")\n",
        "\n",
        "if __name__ == \"__main__\":\n",
        "  print(\"Definisi Kelas Abstrak 'KendaraanAbstrak' selesai.\")\n",
        "\n",
        "  class Mobil(KendaraanAbstrak):\n",
        "    def start_mesin(self):\n",
        "      print(f\"Mesin Mobil {self.merk} dinyalakan.\")\n",
        "\n",
        "    def stop_mesin(self):\n",
        "      print(f\"Mesin mobil {self.merk} dimatikan.\")\n",
        "\n",
        "  print(\"\\nContoh Definisi Kelas anak 'Mobil' selesai.\")\n",
        "\n",
        "  mobil_contoh = Mobil(\"Toyota\")\n",
        "  mobil_contoh.start_mesin()\n",
        "  mobil_contoh.info_merk()\n",
        "  mobil_contoh.stop_mesin()"
      ],
      "metadata": {
        "colab": {
          "base_uri": "https://localhost:8080/"
        },
        "id": "zrAi4Law1SaI",
        "outputId": "59db40bb-39a3-4dd0-9ad6-5eb370b627b0"
      },
      "execution_count": 3,
      "outputs": [
        {
          "output_type": "stream",
          "name": "stdout",
          "text": [
            "Definisi Kelas Abstrak 'KendaraanAbstrak' selesai.\n",
            "\n",
            "Contoh Definisi Kelas anak 'Mobil' selesai.\n",
            "Inisialisasi KendaraanAbstrak dengan merk: Toyota.\n",
            "Mesin Mobil Toyota dinyalakan.\n",
            "Merk Kendaraan ini adalah Toyota.\n",
            "Mesin mobil Toyota dimatikan.\n"
          ]
        }
      ]
    },
    {
      "cell_type": "markdown",
      "source": [
        "## Praktikum 02 : Mencoba Instansiasi kelas Abstrak"
      ],
      "metadata": {
        "id": "Bk_xYa3p1QXW"
      }
    },
    {
      "cell_type": "code",
      "source": [
        "from abc import ABC , abstractmethod\n",
        "\n",
        "class MediaAbstrak(ABC):\n",
        "  def __init__(self, judul):\n",
        "     self.judul = judul\n",
        "     print(f\"Inisialisasi MediaAbstrak dengan judul: {self.judul}.\")\n",
        "  @abstractmethod\n",
        "  def play(self):\n",
        "      pass\n",
        "\n",
        "  @abstractmethod\n",
        "  def stop(self):\n",
        "      pass\n",
        "\n",
        "if __name__ == \"__main__\":\n",
        "  print(\"Mencoba membuat objek dari kelas Abstrak MediaAbstrak....\")\n",
        "\n",
        "  try:\n",
        "\n",
        "   media = MediaAbstrak(\"Konten Abstrak\")\n",
        "   print(\"Objek berhasil dibuat (SEHARUSNYA TIDAK TERJADI).\")\n",
        "   media.play()\n",
        "\n",
        "  except TypeError as e:\n",
        "    print(f\"\\nGagal membuat objek!\")\n",
        "    print(f\"Error yang muncul (sesuai harapan) : {e}\")\n",
        "    print(\"\\nIni membuktikan bahwa kelas abstrak tidak bisa diinstansiasi\")\n",
        "    print(\"jika masih memiliki metode kelas abstrak yang belum diimplementasikan.\")"
      ],
      "metadata": {
        "colab": {
          "base_uri": "https://localhost:8080/"
        },
        "id": "HoPczcDq1b8B",
        "outputId": "3927ee22-bbdf-4252-a5f8-bb5834a095fd"
      },
      "execution_count": 6,
      "outputs": [
        {
          "output_type": "stream",
          "name": "stdout",
          "text": [
            "Mencoba membuat objek dari kelas Abstrak MediaAbstrak....\n",
            "\n",
            "Gagal membuat objek!\n",
            "Error yang muncul (sesuai harapan) : Can't instantiate abstract class MediaAbstrak with abstract methods play, stop\n",
            "\n",
            "Ini membuktikan bahwa kelas abstrak tidak bisa diinstansiasi\n",
            "jika masih memiliki metode kelas abstrak yang belum diimplementasikan.\n"
          ]
        }
      ]
    },
    {
      "cell_type": "markdown",
      "source": [
        "## Praktikum 03 : Membuat Subclass Konkret - Alat Pembayaran"
      ],
      "metadata": {
        "id": "d_jbUfLm1cd0"
      }
    },
    {
      "cell_type": "code",
      "source": [
        "from abc import ABC, abstractmethod\n",
        "import locale\n",
        "import random\n",
        "\n",
        "def format_rupiah(angka):\n",
        "  try:\n",
        "   return locale.currency(angka, grouping=True, symbol='Rp')\n",
        "  except (ValueError, locale.Error):\n",
        "    return f\"Rp{angka:,.0f}\".replace(',', '.')\n",
        "\n",
        "class AlatPembayaranAbstrak(ABC):\n",
        "  def __init__(self, nama_metode):\n",
        "    self.nama_metode = nama_metode\n",
        "    print(f\"Inisialisasi AlatPembayaran dengan nama: {self.nama_metode}.\")\n",
        "  def info(self):\n",
        "    print(f\"Metode Pembayaran: {self.nama_metode}\")\n",
        "  @abstractmethod\n",
        "  def proses_pembayaran(self, total_harga):\n",
        "    pass\n",
        "\n",
        "class KartuKredit(AlatPembayaranAbstrak):\n",
        "  def __init__(self, nomor_kartu, nama_pemilik):\n",
        "    super().__init__(\"Kartu Kredit\")\n",
        "    self.nomor_kartu = nomor_kartu[-4:]\n",
        "    self.nama_pemilik = nama_pemilik\n",
        "    print(f\"  -> Kartu Kredit ***********{self.nomor_kartu} ({self.nama_pemilik}) siap.\")\n",
        "\n",
        "  def proses_pembayaran(self, jumlah):\n",
        "    print(f\"Memproses pembayaran {format_rupiah(jumlah)} via Kartu Kredit ***********{self.nomor_kartu}...\")\n",
        "    berhasil = random.choice([True, False])\n",
        "    if berhasil:\n",
        "      print(\"Pembayaran Kartu Kredit Berhasil.\")\n",
        "      return True\n",
        "    else:\n",
        "      print(\"Pembayaran Kartu Kredit Gagal (Limit tidak cukup/Error).\")\n",
        "      return False\n",
        "\n",
        "class DompetDigital(AlatPembayaranAbstrak):\n",
        "  def __init__(self, nomor_telepon, nama_provider):\n",
        "    super().__init__(f\"Dompet Digital, ({nama_provider})\")\n",
        "    self.nomor_telepon = nomor_telepon\n",
        "    self.nama_provider = nama_provider\n",
        "    self._saldo = random.randint(50000, 500000)\n",
        "    print(f\"  -> Dompet Digital {self.nomor_telepon} siap (Saldo: {format_rupiah(self._saldo)}).\")\n",
        "\n",
        "  def proses_pembayaran(self, jumlah):\n",
        "    print(f\"Memproses pembayaran {format_rupiah(jumlah)} via Dompet Digital {self.nomor_telepon}...\")\n",
        "    if jumlah <= self._saldo:\n",
        "      self._saldo -= jumlah\n",
        "      print(\"Pembayaran Dompet Digital Berhasil.\")\n",
        "      print(f\"  -> Saldo Dompet Digital sekarang: {format_rupiah(self._saldo)}.\")\n",
        "      return True\n",
        "    else:\n",
        "      print(\"Pembayaran Dompet Digital Gagal (Saldo tidak cukup).\")\n",
        "      print(f\"  -> Saldo Dompet Digital saat ini: {format_rupiah(self._saldo)}.\")\n",
        "      return False\n",
        "if __name__==\"__main__\":\n",
        "  print(\"\\nMembuat Objek Alat Pembayaran...\")\n",
        "  kartu_bca = KartuKredit(\"1234-5678-9012\", \"Budi Chayono\")\n",
        "  gopay = DompetDigital(\"08123456789\", \"Gopay\")\n",
        "\n",
        "  print(\"\\nMelakukan Pembayaran:\")\n",
        "\n",
        "  print(\"\\nMencoba bayar dengan Kartu kredit:\")\n",
        "  kartu_bca.info()\n",
        "  status_kk = kartu_bca.proses_pembayaran(150000)\n",
        "  print(f\"Status Transaksi KK: {'Sukses' if status_kk else 'Gagal'}\")\n",
        "\n",
        "  print(\"\\nMencoba bayar dengan Gopay (Jumlah Kecil):\")\n",
        "  gopay.info()\n",
        "  status_gopay1 = gopay.proses_pembayaran(75000)\n",
        "  print(f\"Status Transaksi Gopay1: {'Sukses' if status_gopay1 else 'Gagal'}\")\n",
        "\n",
        "  print(\"\\nMencoba bayar dengan Gopay (Jumlah Besar):\")\n",
        "  status_gopay2 = gopay.proses_pembayaran(1000000)\n",
        "  print(f\"Status Transaksi Gopay2: {'Sukses' if status_gopay2 else 'Gagal'}\")"
      ],
      "metadata": {
        "colab": {
          "base_uri": "https://localhost:8080/"
        },
        "id": "x7UNFjgY1kqY",
        "outputId": "e7c7f35b-3f02-4d50-9578-d0f461b6f27d"
      },
      "execution_count": 46,
      "outputs": [
        {
          "output_type": "stream",
          "name": "stdout",
          "text": [
            "\n",
            "Membuat Objek Alat Pembayaran...\n",
            "Inisialisasi AlatPembayaran dengan nama: Kartu Kredit.\n",
            "  -> Kartu Kredit ***********9012 (Budi Chayono) siap.\n",
            "Inisialisasi AlatPembayaran dengan nama: Dompet Digital, (Gopay).\n",
            "  -> Dompet Digital 08123456789 siap (Saldo: Rp383.471).\n",
            "\n",
            "Melakukan Pembayaran:\n",
            "\n",
            "Mencoba bayar dengan Kartu kredit:\n",
            "Metode Pembayaran: Kartu Kredit\n",
            "Memproses pembayaran Rp150.000 via Kartu Kredit ***********9012...\n",
            "Pembayaran Kartu Kredit Berhasil.\n",
            "Status Transaksi KK: Sukses\n",
            "\n",
            "Mencoba bayar dengan Gopay (Jumlah Kecil):\n",
            "Metode Pembayaran: Dompet Digital, (Gopay)\n",
            "Memproses pembayaran Rp75.000 via Dompet Digital 08123456789...\n",
            "Pembayaran Dompet Digital Berhasil.\n",
            "  -> Saldo Dompet Digital sekarang: Rp308.471.\n",
            "Status Transaksi Gopay1: Sukses\n",
            "\n",
            "Mencoba bayar dengan Gopay (Jumlah Besar):\n",
            "Memproses pembayaran Rp1.000.000 via Dompet Digital 08123456789...\n",
            "Pembayaran Dompet Digital Gagal (Saldo tidak cukup).\n",
            "  -> Saldo Dompet Digital saat ini: Rp308.471.\n",
            "Status Transaksi Gopay2: Gagal\n"
          ]
        }
      ]
    },
    {
      "cell_type": "markdown",
      "source": [
        "## Praktikum 04 : Menggunakan Kelas Abstrak untuk Polimosfisme - Dokumen"
      ],
      "metadata": {
        "id": "ILtlnD8-1lPR"
      }
    },
    {
      "cell_type": "code",
      "source": [
        "from abc import ABC, abstractmethod\n",
        "import time\n",
        "\n",
        "class DokumenAbstrak(ABC):\n",
        "  def __init__(self, nama_file):\n",
        "    self.nama_file = nama_file\n",
        "    print(f\"Inisialisasi DokumenAbstrak dengan nama file: {self.nama_file}.\")\n",
        "  def info_file(self):\n",
        "    print(f\"Nama File: {self.nama_file}\")\n",
        "  @abstractmethod\n",
        "  def cetak(self):\n",
        "    pass\n",
        "  @abstractmethod\n",
        "  def simpan(self):\n",
        "    pass\n",
        "\n",
        "class DokumenTeks(DokumenAbstrak):\n",
        "  def __init__(self, nama_file, isi_teks):\n",
        "    super().__init__(nama_file)\n",
        "    self.isi_teks = isi_teks\n",
        "    print(f\"  -> Tipe: Dokumen Teks\")\n",
        "  def cetak(self):\n",
        "    print(f\"Mencetak Dokumen Teks: {self.nama_file}\")\n",
        "    print(\"=\"*15)\n",
        "    print(self.isi_teks)\n",
        "    print(\"=\"*15)\n",
        "  def simpan(self):\n",
        "    print(f\"Menyimpan Dokumen Teks: {self.nama_file} ke disk...\")\n",
        "    time.sleep(0.2)\n",
        "    print(\"  -> Dokumen Teks berhasil disimpan.\")\n",
        "\n",
        "class Spreadsheet(DokumenAbstrak):\n",
        "  def __init__(self, nama_file, jumlah_baris, jumlah_kolom):\n",
        "    super().__init__(nama_file)\n",
        "    self.baris = jumlah_baris\n",
        "    self.kolom = jumlah_kolom\n",
        "    print(f\"  -> Tipe: Spreadsheet\")\n",
        "  def cetak(self):\n",
        "    print(f\"Mencetak Spreadsheet: '{self.nama_file}' ({self.baris}baris x {self.kolom} kolom)...\")\n",
        "    print(\"  (Menampilkan pratinjau...)\")\n",
        "  def simpan(self):\n",
        "    print(f\"Menyimpan Spreadsheet: {self.nama_file} ke format.xlsx...\")\n",
        "    time.sleep(0.3)\n",
        "    print(\"  -> Spreadsheet berhasil disimpan.\")\n",
        "\n",
        "def proses_dokumen(daftar_dokumen):\n",
        "    print(\"\\n=====MEMPROSES SEMUA DOKUMEN======\")\n",
        "    for doc in daftar_dokumen:\n",
        "      print(f\"\\n---Memproses {type(doc).__name__}: {doc.nama_file}---\")\n",
        "      try:\n",
        "       doc.cetak()\n",
        "       doc.simpan()\n",
        "      except AttributeError as e:\n",
        "       print(f\"Error saat memproses dokumen {doc.nama_file}: {e}\")\n",
        "    print(\"\\n=====SELESAI MEMPROSES DOKUMEN======\")\n",
        "if __name__==\"__main__\":\n",
        "  print(\"membuat Dokumen...\")\n",
        "  dok1 = DokumenTeks(\"laporan.txt\", \"ini adalah isi laporan singkat.\")\n",
        "  dok2 = Spreadsheet(\"data_penjualan.xlsx\", 200, 15)\n",
        "  dok3 = DokumenTeks(\"catatan_rapat.txt\", \"Poin Penting:\\n- Bahas budget\\n- Tentukan timeline\")\n",
        "\n",
        "  koleksi_dokumen = [dok1, dok2, dok3]\n",
        "\n",
        "  proses_dokumen(koleksi_dokumen)\n",
        "\n",
        "  print(f\"\\nIsi teks dok1: \\n{dok1.isi_teks}\")"
      ],
      "metadata": {
        "colab": {
          "base_uri": "https://localhost:8080/"
        },
        "id": "8eeR7vxv1vsk",
        "outputId": "6d265ba4-e2de-42b9-9f60-0dbfedb9bc68"
      },
      "execution_count": 74,
      "outputs": [
        {
          "output_type": "stream",
          "name": "stdout",
          "text": [
            "membuat Dokumen...\n",
            "Inisialisasi DokumenAbstrak dengan nama file: laporan.txt.\n",
            "  -> Tipe: Dokumen Teks\n",
            "Inisialisasi DokumenAbstrak dengan nama file: data_penjualan.xlsx.\n",
            "  -> Tipe: Spreadsheet\n",
            "Inisialisasi DokumenAbstrak dengan nama file: catatan_rapat.txt.\n",
            "  -> Tipe: Dokumen Teks\n",
            "\n",
            "=====MEMPROSES SEMUA DOKUMEN======\n",
            "\n",
            "---Memproses DokumenTeks: laporan.txt---\n",
            "Mencetak Dokumen Teks: laporan.txt\n",
            "===============\n",
            "ini adalah isi laporan singkat.\n",
            "===============\n",
            "Menyimpan Dokumen Teks: laporan.txt ke disk...\n",
            "  -> Dokumen Teks berhasil disimpan.\n",
            "\n",
            "---Memproses Spreadsheet: data_penjualan.xlsx---\n",
            "Mencetak Spreadsheet: 'data_penjualan.xlsx' (200baris x 15 kolom)...\n",
            "  (Menampilkan pratinjau...)\n",
            "Menyimpan Spreadsheet: data_penjualan.xlsx ke format.xlsx...\n",
            "  -> Spreadsheet berhasil disimpan.\n",
            "\n",
            "---Memproses DokumenTeks: catatan_rapat.txt---\n",
            "Mencetak Dokumen Teks: catatan_rapat.txt\n",
            "===============\n",
            "Poin Penting:\n",
            "- Bahas budget\n",
            "- Tentukan timeline\n",
            "===============\n",
            "Menyimpan Dokumen Teks: catatan_rapat.txt ke disk...\n",
            "  -> Dokumen Teks berhasil disimpan.\n",
            "\n",
            "=====SELESAI MEMPROSES DOKUMEN======\n",
            "\n",
            "Isi teks dok1: \n",
            "ini adalah isi laporan singkat.\n"
          ]
        }
      ]
    },
    {
      "cell_type": "markdown",
      "source": [
        "## Praktikum 05 : Kelas Abstrak dengan Metode Konkret dan Abstrk"
      ],
      "metadata": {
        "id": "2jjDgqpD1wVs"
      }
    },
    {
      "cell_type": "code",
      "source": [
        "from abc import ABC, abstractmethod\n",
        "import math\n",
        "\n",
        "class BangunDatarAbstrak(ABC):\n",
        "  def __init__(self, nama):\n",
        "    self._nama = nama\n",
        "    print(f\"Inisialisasi BangunDatarAbstrak dengan nama: {self._nama}.\")\n",
        "  @property\n",
        "  def nama(self):\n",
        "    return self._nama\n",
        "  def info_lengkap(self):\n",
        "    print(f\"--- Info Lengkap: {self.nama} ---\")\n",
        "    try:\n",
        "      luas = self.hitung_luas()\n",
        "      print(f\"Luas: {luas:2f}\")\n",
        "    except NotImplementedError:\n",
        "      print(\"Luas : belum diimplementasikan.\")\n",
        "    except Exception as e:\n",
        "      print(f\"Luas : Error({e})\")\n",
        "    try:\n",
        "      keliling = self.hitung_keliling()\n",
        "      print(f\"Keliling: {keliling:2f}\")\n",
        "    except NotImplementedError:\n",
        "      print(\"Keliling : belum diimplementasikan.\")\n",
        "    print(\"-\"* (len(self.nama) + 18))\n",
        "\n",
        "    @abstractmethod\n",
        "    def hitung_luas(self):\n",
        "      pass\n",
        "    @abstractmethod\n",
        "    def hitung_keliling(self):\n",
        "      pass\n",
        "class Lingkaran(BangunDatarAbstrak):\n",
        "  def __init__(self, radius):\n",
        "    super().__init__(\"Lingkaran\")\n",
        "    if radius <= 0:\n",
        "      raise ValueError(\"Radius tidak boleh negatif\")\n",
        "    self.radius = radius\n",
        "  def hitung_luas(self):\n",
        "    return math.pi * (self.radius ** 2)\n",
        "  def hitung_keliling(self):\n",
        "    return 2 * math.pi * self.radius\n",
        "if __name__==\"__main__\":\n",
        "  print(\"Membuat Objek lingkaran...\")\n",
        "  lingkaran_A = Lingkaran(10)\n",
        "\n",
        "  print(f\"\\nNama bangun (via property) : {lingkaran_A.nama}\")\n",
        "  lingkaran_A.info_lengkap()\n",
        "\n",
        "  luas = lingkaran_A.hitung_luas()\n",
        "  keliling = lingkaran_A.hitung_keliling()\n",
        "  print(f\"Luas langsung: {luas:.2f}, Keliling langsung: {keliling:2f}\")"
      ],
      "metadata": {
        "colab": {
          "base_uri": "https://localhost:8080/"
        },
        "id": "qqguxmKR1wuM",
        "outputId": "dde49cd1-d8ef-47ed-cc1a-f1692e1e377a"
      },
      "execution_count": 79,
      "outputs": [
        {
          "output_type": "stream",
          "name": "stdout",
          "text": [
            "Membuat Objek lingkaran...\n",
            "Inisialisasi BangunDatarAbstrak dengan nama: Lingkaran.\n",
            "\n",
            "Nama bangun (via property) : Lingkaran\n",
            "--- Info Lengkap: Lingkaran ---\n",
            "Luas: 314.159265\n",
            "Keliling: 62.831853\n",
            "---------------------------\n",
            "Luas langsung: 314.16, Keliling langsung: 62.831853\n"
          ]
        }
      ]
    },
    {
      "cell_type": "markdown",
      "source": [
        "## Praktikum 06 : Properti Abstrak - Elemen Grafis"
      ],
      "metadata": {
        "id": "-EXEYWCO15YU"
      }
    },
    {
      "cell_type": "code",
      "source": [],
      "metadata": {
        "id": "7-ktsim015r6"
      },
      "execution_count": null,
      "outputs": []
    },
    {
      "cell_type": "markdown",
      "source": [
        "# Penugasan"
      ],
      "metadata": {
        "id": "t__zoVOy071P"
      }
    },
    {
      "cell_type": "code",
      "source": [],
      "metadata": {
        "id": "ShNSnNVQ2Eki"
      },
      "execution_count": null,
      "outputs": []
    }
  ]
}