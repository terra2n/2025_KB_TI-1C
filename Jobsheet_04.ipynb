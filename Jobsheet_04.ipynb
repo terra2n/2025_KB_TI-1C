{
  "nbformat": 4,
  "nbformat_minor": 0,
  "metadata": {
    "colab": {
      "provenance": [],
      "name": "Jobsheet_04.ipynb",
      "authorship_tag": "ABX9TyPSUUzEldvi9bFSmOUjoc7l",
      "include_colab_link": true
    },
    "kernelspec": {
      "name": "python3",
      "display_name": "Python 3"
    },
    "language_info": {
      "name": "python"
    }
  },
  "cells": [
    {
      "cell_type": "markdown",
      "metadata": {
        "id": "view-in-github",
        "colab_type": "text"
      },
      "source": [
        "<a href=\"https://colab.research.google.com/github/terra2n/2025_KB_TI-1C/blob/main/Jobsheet_04.ipynb\" target=\"_parent\"><img src=\"https://colab.research.google.com/assets/colab-badge.svg\" alt=\"Open In Colab\"/></a>"
      ]
    },
    {
      "cell_type": "code",
      "execution_count": null,
      "metadata": {
        "id": "xoAtytgIVuCT"
      },
      "outputs": [],
      "source": [
        "kamu"
      ]
    }
  ]
}