{
  "nbformat": 4,
  "nbformat_minor": 0,
  "metadata": {
    "colab": {
      "provenance": [],
      "name": "Jobsheet_04.ipynb",
      "authorship_tag": "ABX9TyNojOkXgivVmHFXPhG19oEh",
      "include_colab_link": true
    },
    "kernelspec": {
      "name": "python3",
      "display_name": "Python 3"
    },
    "language_info": {
      "name": "python"
    }
  },
  "cells": [
    {
      "cell_type": "markdown",
      "metadata": {
        "id": "view-in-github",
        "colab_type": "text"
      },
      "source": [
        "<a href=\"https://colab.research.google.com/github/terra2n/2025_KB_TI-1C/blob/main/Jobsheet_04.ipynb\" target=\"_parent\"><img src=\"https://colab.research.google.com/assets/colab-badge.svg\" alt=\"Open In Colab\"/></a>"
      ]
    },
    {
      "cell_type": "markdown",
      "source": [
        "# Langkah Praktikum"
      ],
      "metadata": {
        "id": "5PWNTGZlfxAU"
      }
    },
    {
      "cell_type": "markdown",
      "source": [
        "## 1. Praktikum 01 : Inheritance Dasar"
      ],
      "metadata": {
        "id": "W9j-qAKsf4jM"
      }
    },
    {
      "cell_type": "code",
      "execution_count": 31,
      "metadata": {
        "id": "xoAtytgIVuCT",
        "outputId": "b931f56b-6fc1-4011-8b13-a920a29794c9",
        "colab": {
          "base_uri": "https://localhost:8080/"
        }
      },
      "outputs": [
        {
          "output_type": "stream",
          "name": "stdout",
          "text": [
            "ini adalah mobil Tesla Model S berwarna Merah.\n",
            "Mesin Kendaraan Tesla Model S dinyalakan.\n",
            "Merk mobil: Tesla Model S\n"
          ]
        }
      ],
      "source": [
        "# Kelas Induk\n",
        "class Kendaraan:\n",
        "  def __init__(self,merk):\n",
        "    self.merk = merk\n",
        "  def mulai_mesin(self):\n",
        "      print(f\"Mesin Kendaraan {self.merk} dinyalakan.\")\n",
        "\n",
        "# Kelas Anak (Mewarisi dari kendaraan)\n",
        "class Mobil(Kendaraan):\n",
        "  def __init__(self,merk,warna):\n",
        "    self.merk = merk\n",
        "    self.warna = warna\n",
        "\n",
        "  def info_mobil(self):\n",
        "    print(f\"ini adalah mobil {self.merk} berwarna {self.warna}.\")\n",
        "\n",
        "# --- Kode Utama ---\n",
        "if __name__ == \"__main__\":\n",
        "  mobil_tesla = Mobil(\"Tesla Model S\",\"Merah\")\n",
        "  mobil_tesla.info_mobil()\n",
        "  mobil_tesla.mulai_mesin()\n",
        "  print(f\"Merk mobil: {mobil_tesla.merk}\")\n",
        "\n"
      ]
    },
    {
      "cell_type": "markdown",
      "source": [
        "## 2. Praktikum 02 : Menggunakan super() dalam konstruktor"
      ],
      "metadata": {
        "id": "TjKqBlkKjaFZ"
      }
    },
    {
      "cell_type": "code",
      "source": [
        "# Kelas Induk\n",
        "class Person:\n",
        "  def __init__(self, nama, usia):\n",
        "    self.nama = nama\n",
        "    self.usia = usia\n",
        "\n",
        "  def perkenalan_diri(self):\n",
        "    print(f\"Halo, nama saya {self.nama}, Usia saya {self.usia}\")\n",
        "\n",
        "# Kelas Anak (Mewarisi dari Person)\n",
        "class Student (Person):\n",
        "  def __init__(self, nama, usia, Student_id, jurusan):\n",
        "    print(f\"(Memanggil __init__Student untuk '{nama}')\")\n",
        "\n",
        "    super().__init__(nama, usia)\n",
        "    self.Student_id = Student_id\n",
        "    self.jurusan = jurusan\n",
        "    print(f\"(Saya adalah mehasiswa dengan ID {self.Student_id}, jurusan {self.jurusan})\")\n",
        "\n",
        "  def info_akademik(self):\n",
        "    print(f\"ID Mahasiswa: {self.Student_id}\")\n",
        "    print(f\"Jurusan: {self.jurusan}\")\n",
        "\n",
        "  def perkenalan_diri(self):\n",
        "    super().perkenalan_diri()\n",
        "    print(f\"Saya adalah mahasiswa dengan ID {self.Student_id}, jurusan {self.jurusan}\")\n",
        "\n",
        "# Kode Utama\n",
        "if __name__==\"__main__\":\n",
        "  dosen = Person (\"pak Anton\", 45)\n",
        "  print(\"-\" * 20)\n",
        "  dosen.perkenalan_diri()\n",
        "  print(\"\\n\" + \"=\" * 30 + \"\\n\")\n",
        "\n",
        "  mahasiswa = Student (\"Dewi\", 20, \"MHS001\", \"Teknik Komputer\")\n",
        "  print(\"-\" * 20)\n",
        "  mahasiswa.perkenalan_diri()\n",
        "  print(\"-\" * 20)\n",
        "  mahasiswa.info_akademik()\n",
        "\n",
        "  print(f\"\\nUsia mahasiswa {mahasiswa.nama}: {mahasiswa.usia}\")"
      ],
      "metadata": {
        "id": "5_nI40FWji0D",
        "outputId": "6911f0db-b010-47bf-ac76-6ea7e362986a",
        "colab": {
          "base_uri": "https://localhost:8080/"
        }
      },
      "execution_count": 32,
      "outputs": [
        {
          "output_type": "stream",
          "name": "stdout",
          "text": [
            "--------------------\n",
            "Halo, nama saya pak Anton, Usia saya 45\n",
            "\n",
            "==============================\n",
            "\n",
            "(Memanggil __init__Student untuk 'Dewi')\n",
            "(Saya adalah mehasiswa dengan ID MHS001, jurusan Teknik Komputer)\n",
            "--------------------\n",
            "Halo, nama saya Dewi, Usia saya 20\n",
            "Saya adalah mahasiswa dengan ID MHS001, jurusan Teknik Komputer\n",
            "--------------------\n",
            "ID Mahasiswa: MHS001\n",
            "Jurusan: Teknik Komputer\n",
            "\n",
            "Usia mahasiswa Dewi: 20\n"
          ]
        }
      ]
    },
    {
      "cell_type": "markdown",
      "source": [
        "## 3. Praktikum 03 : Method Overriding dan super()"
      ],
      "metadata": {
        "id": "5bnp4OJhoU0U"
      }
    },
    {
      "cell_type": "code",
      "source": [
        "# Kelas Induk\n",
        "class Hewan:\n",
        "  def __init__(self, nama):\n",
        "    self.nama = nama\n",
        "\n",
        "  def bersuara(self):\n",
        "    print (f\"{self.nama} mengeluarkan suara generik.\")\n",
        "\n",
        "  def tampilkan_info(self):\n",
        "    print(f\"ini adalah hewan bernama {self.nama}.\")\n",
        "\n",
        "# Kelas Anak\n",
        "class Kucing(Hewan):\n",
        "  def __init__(self, nama, ras):\n",
        "    super().__init__(nama)\n",
        "    self.ras = ras\n",
        "\n",
        "  def bersuara(self):\n",
        "    print(f\"{self.nama} (Kucing) mengeong: Meow!\")\n",
        "\n",
        "  def tampilkan_info(self):\n",
        "    super().tampilkan_info()\n",
        "    print(f\"Ini adalah kucing ras {self.ras}.\")\n",
        "\n",
        "# Kelas Utama\n",
        "if __name__ == \"__main__\":\n",
        "  hewan_umum = Hewan(\"Makhluk\")\n",
        "  kucing_persia = Kucing(\"Puspus\", \"Persia\")\n",
        "\n",
        "  print(\"info Hewan Umum\")\n",
        "  hewan_umum.tampilkan_info()\n",
        "  hewan_umum.bersuara()\n",
        "  print(\"-\" * 20)\n",
        "\n",
        "  print(\"info Kucing Persia:\")\n",
        "  kucing_persia.tampilkan_info()\n",
        "  kucing_persia.bersuara()\n"
      ],
      "metadata": {
        "id": "tlM563mbohYH",
        "outputId": "c906c58c-c321-4358-cbd4-489fd3df3004",
        "colab": {
          "base_uri": "https://localhost:8080/"
        }
      },
      "execution_count": 33,
      "outputs": [
        {
          "output_type": "stream",
          "name": "stdout",
          "text": [
            "info Hewan Umum\n",
            "ini adalah hewan bernama Makhluk.\n",
            "Makhluk mengeluarkan suara generik.\n",
            "--------------------\n",
            "info Kucing Persia:\n",
            "ini adalah hewan bernama Puspus.\n",
            "Ini adalah kucing ras Persia.\n",
            "Puspus (Kucing) mengeong: Meow!\n"
          ]
        }
      ]
    },
    {
      "cell_type": "markdown",
      "source": [
        "## 4. Multi-Level Inheritance (Pewarisan Bertingkat)"
      ],
      "metadata": {
        "id": "c2A78cl1siFl"
      }
    },
    {
      "cell_type": "code",
      "source": [
        "# Kelas Induk level 1\n",
        "class Organisme:\n",
        "  def __init__(self, nama):\n",
        "    self.nama = nama\n",
        "    print(f\"Organisme ' {self.nama}' diciptakan.\")\n",
        "\n",
        "  def bernapas(self):\n",
        "    print(f\"{self.nama} sedang bernapas\")\n",
        "\n",
        "# Kelas Anak Level 1 (mewarisi dari Organisme)\n",
        "class Hewan(Organisme):\n",
        "  def __init__(self, nama, jenis_makanan):\n",
        "    super().__init__(nama)\n",
        "    self.jenis_makanan = jenis_makanan\n",
        "    print(f\"Hewan '{self.nama}' adalah ({self.jenis_makanan}).\")\n",
        "\n",
        "  def bergerak(self):\n",
        "    print(f\"{self.nama} sedang bergerak.\")\n",
        "\n",
        "# Kelas Anak level 2 (mewarisi dari Hewan)\n",
        "class Mamalia(Hewan):\n",
        "  def __init__(self, nama, jenis_makanan, jumlah_kaki):\n",
        "    super().__init__(nama, jenis_makanan)\n",
        "    self.jumlah_kaki = jumlah_kaki\n",
        "    print(f\"Mamalia '{self.nama}' memiliki {self.jumlah_kaki} kaki.\")\n",
        "\n",
        "  def menyusui(self):\n",
        "    print(f\"{self.nama} sedang menyusui.\")\n",
        "\n",
        "# Kode Utama\n",
        "if __name__==\"__main__\":\n",
        "  kucing = Mamalia (\"Kucing Persia\", \"Karnivora\", 4)\n",
        "  print(\"-\" * 20)\n",
        "\n",
        "  kucing.menyusui()\n",
        "\n",
        "  kucing.bergerak()\n",
        "  print(f\"Jenis makanan kucing Persia: {kucing.jenis_makanan}\")\n",
        "\n",
        "  kucing.bernapas()\n",
        "  print(f\"Nama Organisme: {kucing.nama}\")"
      ],
      "metadata": {
        "id": "X6lEFRVHsqGe",
        "outputId": "cbb53382-e972-4cdc-b23d-b2be4ce220b8",
        "colab": {
          "base_uri": "https://localhost:8080/"
        }
      },
      "execution_count": 34,
      "outputs": [
        {
          "output_type": "stream",
          "name": "stdout",
          "text": [
            "Organisme ' Kucing Persia' diciptakan.\n",
            "Hewan 'Kucing Persia' adalah (Karnivora).\n",
            "Mamalia 'Kucing Persia' memiliki 4 kaki.\n",
            "--------------------\n",
            "Kucing Persia sedang menyusui.\n",
            "Kucing Persia sedang bergerak.\n",
            "Jenis makanan kucing Persia: Karnivora\n",
            "Kucing Persia sedang bernapas\n",
            "Nama Organisme: Kucing Persia\n"
          ]
        }
      ]
    },
    {
      "cell_type": "markdown",
      "source": [
        "## Praktikum 05 : Hierarchical Inheritance"
      ],
      "metadata": {
        "id": "ul3emPdw3-ko"
      }
    },
    {
      "cell_type": "code",
      "source": [
        "import locale\n",
        "\n",
        "# set locale ke indonesia untuk format mata uang\n",
        "try:\n",
        "  locale.setlocale(locale.LC_ALL, 'id_ID.UTF-8')\n",
        "except locale.Error:\n",
        "  print(f\"Locale id_ID.UTF-8 tidak tersedia, menggunakan Locale default.\")\n",
        "\n",
        "# fungsi helper untuk format mata uang\n",
        "def format_rupiah(angka):\n",
        "  return locale.format_currency(angka, grouping=True, symbol='Rp ')\n",
        "\n",
        "# Kelas induk\n",
        "class Pegawai:\n",
        "  def __init__(self, nama, id_pegawai, gaji_pokok):\n",
        "    self.nama = nama\n",
        "    self.id_pegawai = id_pegawai\n",
        "  self.gaji_pokok = gaji_pokok\n",
        "\n",
        "  def hitung_gaji(self):\n",
        "    return self.gaji_pokok\n",
        "\n",
        "  def tampilkan_info(self):\n",
        "    print(f\"ID: {self.id_pegawai}, Nama: {self.nama}\")\n",
        "    print(f\"Gaji Pokok: {format_rupiah(self.gaji_pokok)}\")\n",
        "\n",
        "  def tampilkan_info(self):\n",
        "    print(f\"ID: {self.id_pegawai}, Nama: {self.nama}\")\n",
        "    print(f\"Gaji Pokok: {format_rupiah(self.gaji_pokok)}\")\n",
        "\n",
        "\n",
        ""
      ],
      "metadata": {
        "id": "a95dZ51k4Ky3",
        "outputId": "a698e367-6b3b-4836-ab2b-90479139b91d",
        "colab": {
          "base_uri": "https://localhost:8080/",
          "height": 106
        }
      },
      "execution_count": 47,
      "outputs": [
        {
          "output_type": "error",
          "ename": "IndentationError",
          "evalue": "unexpected indent (<ipython-input-47-20b4aa4ef6dc>, line 20)",
          "traceback": [
            "\u001b[0;36m  File \u001b[0;32m\"<ipython-input-47-20b4aa4ef6dc>\"\u001b[0;36m, line \u001b[0;32m20\u001b[0m\n\u001b[0;31m    def hitung_gaji(self):\u001b[0m\n\u001b[0m    ^\u001b[0m\n\u001b[0;31mIndentationError\u001b[0m\u001b[0;31m:\u001b[0m unexpected indent\n"
          ]
        }
      ]
    },
    {
      "cell_type": "code",
      "source": [],
      "metadata": {
        "id": "Sup5m9KO4Uab"
      },
      "execution_count": null,
      "outputs": []
    }
  ]
}