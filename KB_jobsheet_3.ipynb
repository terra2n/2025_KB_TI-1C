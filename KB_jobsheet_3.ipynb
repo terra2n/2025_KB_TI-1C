{
  "nbformat": 4,
  "nbformat_minor": 0,
  "metadata": {
    "colab": {
      "provenance": [],
      "name": "KB_jobsheet 3.ipynb",
      "authorship_tag": "ABX9TyMWwhaUD9LyGZSmpDy+5OFN",
      "include_colab_link": true
    },
    "kernelspec": {
      "name": "python3",
      "display_name": "Python 3"
    },
    "language_info": {
      "name": "python"
    }
  },
  "cells": [
    {
      "cell_type": "markdown",
      "metadata": {
        "id": "view-in-github",
        "colab_type": "text"
      },
      "source": [
        "<a href=\"https://colab.research.google.com/github/terra2n/2025_KB_TI-1C/blob/main/KB_jobsheet_3.ipynb\" target=\"_parent\"><img src=\"https://colab.research.google.com/assets/colab-badge.svg\" alt=\"Open In Colab\"/></a>"
      ]
    },
    {
      "cell_type": "markdown",
      "source": [
        "# Latihan"
      ],
      "metadata": {
        "id": "HZY9dyfuHrly"
      }
    },
    {
      "cell_type": "markdown",
      "source": [
        "## Central Tendency"
      ],
      "metadata": {
        "id": "mu51UdYqD6i0"
      }
    },
    {
      "cell_type": "code",
      "execution_count": null,
      "metadata": {
        "id": "H9jfMe57Dw8B",
        "colab": {
          "base_uri": "https://localhost:8080/"
        },
        "outputId": "dd104cd6-d87a-4190-f906-dd4fd08457ac"
      },
      "outputs": [
        {
          "output_type": "stream",
          "name": "stdout",
          "text": [
            "Mean: 82.11111111111111\n"
          ]
        }
      ],
      "source": [
        "import numpy as np\n",
        "\n",
        "score = [90, 80, 70, 65, 110, 80, 83, 67, 94]\n",
        "x = np.mean(score)\n",
        "print(\"Mean:\", x)\n"
      ]
    },
    {
      "cell_type": "code",
      "source": [
        "import numpy as np\n",
        "\n",
        "score = [90, 80, 70, 65, 110, 80, 83, 67, 94]\n",
        "x = np.median(score)\n",
        "print(\"Median:\", x)\n"
      ],
      "metadata": {
        "colab": {
          "base_uri": "https://localhost:8080/"
        },
        "id": "bYnZ93McGmY-",
        "outputId": "9c5968ea-18c7-4d38-f083-d6b80a3ac404"
      },
      "execution_count": null,
      "outputs": [
        {
          "output_type": "stream",
          "name": "stdout",
          "text": [
            "Median: 80.0\n"
          ]
        }
      ]
    },
    {
      "cell_type": "code",
      "source": [
        "from scipy import stats\n",
        "\n",
        "score = [90, 80, 70, 65, 110, 80, 83, 67, 94]\n",
        "x = stats.mode(score, keepdims=True)\n",
        "print(\"Modus:\", x.mode[0])\n"
      ],
      "metadata": {
        "colab": {
          "base_uri": "https://localhost:8080/"
        },
        "id": "C0MvvJJtG57N",
        "outputId": "2cc8799e-9c26-4a06-8041-6f2e4bda32c3"
      },
      "execution_count": null,
      "outputs": [
        {
          "output_type": "stream",
          "name": "stdout",
          "text": [
            "Modus: 80\n"
          ]
        }
      ]
    },
    {
      "cell_type": "markdown",
      "source": [
        "## Spread"
      ],
      "metadata": {
        "id": "Mq30Wm6iG-KI"
      }
    },
    {
      "cell_type": "code",
      "source": [
        "import numpy as np\n",
        "\n",
        "data = [2, 3, 7, 8, 9, 12, 15, 20, 50, 42]\n",
        "minimum = np.min(data)\n",
        "maximum = np.max(data)\n",
        "x = maximum - minimum\n",
        "print(\"Range:\", x)\n"
      ],
      "metadata": {
        "colab": {
          "base_uri": "https://localhost:8080/"
        },
        "id": "rnkbV4woHBhU",
        "outputId": "a1ae53b6-fa87-438f-fbcd-b0f37fc9c9b2"
      },
      "execution_count": null,
      "outputs": [
        {
          "output_type": "stream",
          "name": "stdout",
          "text": [
            "Range: 48\n"
          ]
        }
      ]
    },
    {
      "cell_type": "code",
      "source": [
        "import numpy as np\n",
        "\n",
        "data = [90, 80, 70, 65, 110, 80, 83, 67, 94]\n",
        "x = np.percentile(data, 90)\n",
        "print(\"Percentile 90:\", x)\n"
      ],
      "metadata": {
        "colab": {
          "base_uri": "https://localhost:8080/"
        },
        "id": "GuQ4-xgPHD8z",
        "outputId": "8fd0a757-30a7-404f-8c9e-a2f21b69e46f"
      },
      "execution_count": null,
      "outputs": [
        {
          "output_type": "stream",
          "name": "stdout",
          "text": [
            "Percentile 90: 97.2\n"
          ]
        }
      ]
    },
    {
      "cell_type": "code",
      "source": [
        "import numpy as np\n",
        "\n",
        "data = [3, 4, 4, 5, 5, 6, 6, 7, 8, 8, 9, 10]\n",
        "Q1 = np.median(data[:int(len(data)/2)])\n",
        "Q3 = np.median(data[int(len(data)/2):])\n",
        "IQR = Q3 - Q1\n",
        "print(\"Q1:\", Q1)\n",
        "print(\"Q3:\", Q3)\n",
        "print(\"IQR:\", IQR)\n"
      ],
      "metadata": {
        "colab": {
          "base_uri": "https://localhost:8080/"
        },
        "id": "iGsBjofIHGDP",
        "outputId": "0e27a538-64df-4a51-d9d6-234f826eb95a"
      },
      "execution_count": null,
      "outputs": [
        {
          "output_type": "stream",
          "name": "stdout",
          "text": [
            "Q1: 4.5\n",
            "Q3: 8.0\n",
            "IQR: 3.5\n"
          ]
        }
      ]
    },
    {
      "cell_type": "code",
      "source": [
        "import numpy as np\n",
        "\n",
        "data = [86, 87, 88, 86, 87, 85, 86]\n",
        "mean = np.mean(data)\n",
        "var = np.var(data)\n",
        "std = np.std(data)\n",
        "print(\"Mean:\", mean)\n",
        "print(\"Variance:\", var)\n",
        "print(\"Standard Deviation:\", std)"
      ],
      "metadata": {
        "colab": {
          "base_uri": "https://localhost:8080/"
        },
        "id": "kWIie_zGHLYy",
        "outputId": "31fb4703-835d-487d-b8b2-9197543aef59"
      },
      "execution_count": null,
      "outputs": [
        {
          "output_type": "stream",
          "name": "stdout",
          "text": [
            "Mean: 86.42857142857143\n",
            "Variance: 0.8163265306122449\n",
            "Standard Deviation: 0.9035079029052513\n"
          ]
        }
      ]
    },
    {
      "cell_type": "markdown",
      "source": [
        "# Tugas Praktikum"
      ],
      "metadata": {
        "id": "ccTN5_JjHi5G"
      }
    },
    {
      "cell_type": "markdown",
      "source": [
        "## 1. Modus dari data pelemparan dadu"
      ],
      "metadata": {
        "id": "qMuRQ_ncH945"
      }
    },
    {
      "cell_type": "markdown",
      "source": [
        "Pelemparan dadu sebanyak 25 kali. Angka yang keluar datanya adalah :\n",
        "1 2 3 4 5 5 6 2 3 4 5 6 6 4 3 2 1 4 3 5 6 6 5 4 5\n",
        "\n",
        "Modus dari data diatas adalah …"
      ],
      "metadata": {
        "id": "nVFZ6fpgL3LT"
      }
    },
    {
      "cell_type": "code",
      "source": [
        "from scipy import stats\n",
        "\n",
        "data = [1, 2, 3, 4, 5, 5, 6, 2, 3, 4, 5, 6, 6, 4, 3, 2, 1, 4, 3, 5, 6, 6, 5, 4, 5]\n",
        "mode = stats.mode(data, keepdims=True)\n",
        "print(\"Modus:\", mode.mode[0])"
      ],
      "metadata": {
        "colab": {
          "base_uri": "https://localhost:8080/"
        },
        "id": "5rlViKjhHmo0",
        "outputId": "014bc1ce-9b19-4e02-8c36-b92042478042"
      },
      "execution_count": null,
      "outputs": [
        {
          "output_type": "stream",
          "name": "stdout",
          "text": [
            "Modus: 5\n"
          ]
        }
      ]
    },
    {
      "cell_type": "markdown",
      "source": [
        "## 2. Persentil ke-25 dan ke-75 dari data berikut"
      ],
      "metadata": {
        "id": "BB29LWhMIL1x"
      }
    },
    {
      "cell_type": "markdown",
      "source": [
        "Diketahui sebuah deret data 9, 10, 11, 6, 8, 7, 7, 5, 4, 5.\n",
        "Tentukan persentil ke-25 dan persentil ke-75 !"
      ],
      "metadata": {
        "id": "rwQyn-bfMZlO"
      }
    },
    {
      "cell_type": "code",
      "source": [
        "import numpy as np\n",
        "\n",
        "data = [9, 10, 11, 6, 8, 7, 7, 5, 4, 5]\n",
        "p25 = np.percentile(data, 25)\n",
        "p75 = np.percentile(data, 75)\n",
        "print(\"Persentil ke-25:\", p25)\n",
        "print(\"Persentil ke-75:\", p75)"
      ],
      "metadata": {
        "colab": {
          "base_uri": "https://localhost:8080/"
        },
        "id": "VLybsUVrITaI",
        "outputId": "dbba9854-65fb-43c9-ec8c-d89644831429"
      },
      "execution_count": null,
      "outputs": [
        {
          "output_type": "stream",
          "name": "stdout",
          "text": [
            "Persentil ke-25: 5.25\n",
            "Persentil ke-75: 8.75\n"
          ]
        }
      ]
    },
    {
      "cell_type": "markdown",
      "source": [
        "## 3. Analisis data hasil **ujian**"
      ],
      "metadata": {
        "id": "uK5nfEUnIX_V"
      }
    },
    {
      "cell_type": "markdown",
      "source": [
        "Pada sebuah kelas memiliki nilai hasil ujian yaitu 50, 54, 62, 50, 52, 59, 61, 63, 65, 10, 53, 63, 65, 50, 59, 62, 50, 51, 57, 60, 63, 65, 65, 53, 99.\n",
        "\n",
        "Beradasarkan data hasil ujian tersebut, tentukan :"
      ],
      "metadata": {
        "id": "zwpQidD3MvWB"
      }
    },
    {
      "cell_type": "markdown",
      "source": [
        "a. Urutkan data dari yang terkecil sampai data yang terbesar"
      ],
      "metadata": {
        "id": "ivYajgj_IjIE"
      }
    },
    {
      "cell_type": "code",
      "source": [
        "data = [50, 54, 62, 50, 52, 59, 61, 63, 65, 10, 53, 63, 65, 50, 59, 62, 50, 51, 57, 60, 63, 65, 65, 53, 99]\n",
        "data_sorted = sorted(data)\n",
        "print(\"Data urut:\", data_sorted)"
      ],
      "metadata": {
        "colab": {
          "base_uri": "https://localhost:8080/"
        },
        "id": "ZLceCtZFIbuT",
        "outputId": "7d1e0de7-02c6-4fdd-f3d2-77754ec73f74"
      },
      "execution_count": null,
      "outputs": [
        {
          "output_type": "stream",
          "name": "stdout",
          "text": [
            "Data urut: [10, 50, 50, 50, 50, 51, 52, 53, 53, 54, 57, 59, 59, 60, 61, 62, 62, 63, 63, 63, 65, 65, 65, 65, 99]\n"
          ]
        }
      ]
    },
    {
      "cell_type": "markdown",
      "source": [
        "b. Q1, Q3, dan IQR"
      ],
      "metadata": {
        "id": "2BBxWvfRIgdJ"
      }
    },
    {
      "cell_type": "code",
      "source": [
        "import numpy as np\n",
        "# Calculate the middle index\n",
        "middle_index = len(data_sorted) // 2\n",
        "\n",
        "\n",
        "# Hitung Q1 (median dari setengah pertama data)\n",
        "q1 = np.median(data_sorted[:middle_index])\n",
        "\n",
        "# Hitung Q3 (median dari setengah kedua data)\n",
        "q3 = np.median(data_sorted[middle_index:])\n",
        "\n",
        "# Hitung IQR\n",
        "iqr = q3 - q1\n",
        "\n",
        "print(f\"Q1: {q1}\")\n",
        "print(f\"Q3: {q3}\")\n",
        "print(f\"IQR: {iqr}\")"
      ],
      "metadata": {
        "colab": {
          "base_uri": "https://localhost:8080/"
        },
        "id": "QLvaktbQIfX_",
        "outputId": "dc87ff89-9694-4329-abd6-dd38ac5abfb9"
      },
      "execution_count": 4,
      "outputs": [
        {
          "output_type": "stream",
          "name": "stdout",
          "text": [
            "Q1: 51.5\n",
            "Q3: 63.0\n",
            "IQR: 11.5\n"
          ]
        }
      ]
    },
    {
      "cell_type": "markdown",
      "source": [
        "c. Upper Bound dan Lower Bound"
      ],
      "metadata": {
        "id": "EY8jMA-yIvg3"
      }
    },
    {
      "cell_type": "code",
      "source": [
        "lower_bound = q1 - 1.5 * iqr\n",
        "upper_bound = q3 + 1.5 * iqr # Removed extra indentation\n",
        "print(\"Lower Bound:\", lower_bound) # Removed extra indentation\n",
        "print(\"Upper Bound:\", upper_bound) # Removed extra indentation"
      ],
      "metadata": {
        "colab": {
          "base_uri": "https://localhost:8080/"
        },
        "id": "e0ADReJtI0F9",
        "outputId": "51241119-1846-4074-8e4f-6182c740514a"
      },
      "execution_count": 7,
      "outputs": [
        {
          "output_type": "stream",
          "name": "stdout",
          "text": [
            "Lower Bound: 34.25\n",
            "Upper Bound: 80.25\n"
          ]
        }
      ]
    },
    {
      "cell_type": "markdown",
      "source": [
        "d.\tTentukan nilai ujian yang menjadi outlier berdasarkan data hasil ujian diatas"
      ],
      "metadata": {
        "id": "IEn7D5X0JHFk"
      }
    },
    {
      "cell_type": "code",
      "source": [
        "outliers = [x for x in data if x < lower_bound or x > upper_bound]\n",
        "print(\"Outlier:\", outliers)"
      ],
      "metadata": {
        "colab": {
          "base_uri": "https://localhost:8080/"
        },
        "id": "Gd9xhwcUJGI4",
        "outputId": "4e68055c-4ec7-40aa-8970-9355ccffa96f"
      },
      "execution_count": null,
      "outputs": [
        {
          "output_type": "stream",
          "name": "stdout",
          "text": [
            "Outlier: [10, 99]\n"
          ]
        }
      ]
    },
    {
      "cell_type": "markdown",
      "source": [
        "## 4. Standar Deviasi dan data berat badan mahasiswa"
      ],
      "metadata": {
        "id": "kK9D1SI6I73e"
      }
    },
    {
      "cell_type": "markdown",
      "source": [
        "Diketahui data berat bada mahasiswa informatika polines kelas IK-2E adalah sebagai berikut.\n",
        "\n",
        "| Berat Badan (kg) | Frekuensi |\n",
        "|------------------|-----------|\n",
        "| 41 – 45          | 2         |\n",
        "| 46 – 50          | 3         |\n",
        "| 51 – 55          | 6         |\n",
        "| 56 – 60          | 4         |\n",
        "| 61 – 65          | 5         |\n",
        "| 66 – 70          | 2         |\n",
        "\n",
        "\n",
        "Hitunglah standart deviasi dari data berat badan mahasiswa informatika tersebut.\n"
      ],
      "metadata": {
        "id": "Ql1w4CuuNvng"
      }
    },
    {
      "cell_type": "code",
      "source": [
        "import numpy as np\n",
        "\n",
        "# Titik tengah kelas\n",
        "midpoints = [43, 48, 53, 58, 63, 68]\n",
        "\n",
        "# Frekuensi\n",
        "frequencies = [2, 3, 6, 4, 5, 2]\n",
        "\n",
        "# Hitung rata-rata tertimbang (mean)\n",
        "mean = np.average(midpoints, weights=frequencies)\n",
        "\n",
        "# Hitung varians tertimbang\n",
        "variance = np.average([(x - mean)**2 for x in midpoints], weights=frequencies)\n",
        "\n",
        "# Standar deviasi adalah akar dari varians\n",
        "std_dev = np.sqrt(variance)\n",
        "\n",
        "print(\"Mean:\", round(mean, 2))\n",
        "print(\"Standar Deviasi:\", round(std_dev, 2))"
      ],
      "metadata": {
        "colab": {
          "base_uri": "https://localhost:8080/"
        },
        "id": "1LS32fh3JOo2",
        "outputId": "d929ba38-191a-4a7e-90f0-c72922ce9ab2"
      },
      "execution_count": null,
      "outputs": [
        {
          "output_type": "stream",
          "name": "stdout",
          "text": [
            "Mean: 55.95\n",
            "Standar Deviasi: 7.18\n"
          ]
        }
      ]
    }
  ]
}