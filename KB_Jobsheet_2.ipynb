{
  "nbformat": 4,
  "nbformat_minor": 0,
  "metadata": {
    "colab": {
      "provenance": [],
      "authorship_tag": "ABX9TyPz37kN6Mtlu4NCmgt7/T0h",
      "include_colab_link": true
    },
    "kernelspec": {
      "name": "python3",
      "display_name": "Python 3"
    },
    "language_info": {
      "name": "python"
    }
  },
  "cells": [
    {
      "cell_type": "markdown",
      "metadata": {
        "id": "view-in-github",
        "colab_type": "text"
      },
      "source": [
        "<a href=\"https://colab.research.google.com/github/terra2n/2025_KB_TI-1C/blob/main/KB_Jobsheet_2.ipynb\" target=\"_parent\"><img src=\"https://colab.research.google.com/assets/colab-badge.svg\" alt=\"Open In Colab\"/></a>"
      ]
    },
    {
      "cell_type": "markdown",
      "source": [
        "# 1. Tipe Data Python"
      ],
      "metadata": {
        "id": "ig11U5dg6mB6"
      }
    },
    {
      "cell_type": "markdown",
      "source": [
        "a. Cek Tipe Data"
      ],
      "metadata": {
        "id": "WOxJhdSm6xqS"
      }
    },
    {
      "cell_type": "code",
      "execution_count": null,
      "metadata": {
        "id": "yZ6Ymab9JOIP",
        "colab": {
          "base_uri": "https://localhost:8080/"
        },
        "outputId": "8428b6e3-adc3-4f15-f85b-562e17bd93f0"
      },
      "outputs": [
        {
          "output_type": "stream",
          "name": "stdout",
          "text": [
            "<class 'int'>\n"
          ]
        }
      ],
      "source": [
        ">>> var = 123\n",
        ">>> print(type(var))"
      ]
    },
    {
      "cell_type": "markdown",
      "source": [
        "b. Tipe data String"
      ],
      "metadata": {
        "id": "g-JeSCMm67x_"
      }
    },
    {
      "cell_type": "code",
      "source": [
        ">>> a = '123'\n",
        ">>> b = '3.4'\n",
        ">>> c = \"Data String\"\n",
        ">>> print(type(c))"
      ],
      "metadata": {
        "colab": {
          "base_uri": "https://localhost:8080/"
        },
        "id": "NpgGLA5f5891",
        "outputId": "762933a4-0577-46a3-84d1-73c7a001d23b"
      },
      "execution_count": null,
      "outputs": [
        {
          "output_type": "stream",
          "name": "stdout",
          "text": [
            "<class 'str'>\n"
          ]
        }
      ]
    },
    {
      "cell_type": "markdown",
      "source": [
        "c. Tipe data numerik"
      ],
      "metadata": {
        "id": "FzcdK9hu7IbV"
      }
    },
    {
      "cell_type": "code",
      "source": [
        ">>> var1 = 345\n",
        ">>> var2 = 34.5\n",
        ">>> f1 = float(var1)\n",
        ">>> print(type(f1))\n",
        ">>> print(f1)\n",
        "345.0\n",
        ">>> sum = var1 + var2\n",
        ">>> print(sum)\n",
        "379.5\n",
        ">>> var3 = 12.3\n",
        ">>> var4 = 12.9\n",
        ">>> i1 = int(var2)\n",
        ">>> i2 = int(var3)\n",
        ">>> print(i1)\n",
        "34\n",
        ">>> print(i2)\n",
        "12"
      ],
      "metadata": {
        "colab": {
          "base_uri": "https://localhost:8080/"
        },
        "id": "OM3Ya-U46Le8",
        "outputId": "cc7f0aa1-4adb-4dc0-9777-7606862fd167"
      },
      "execution_count": null,
      "outputs": [
        {
          "output_type": "stream",
          "name": "stdout",
          "text": [
            "<class 'float'>\n",
            "345.0\n",
            "379.5\n",
            "34\n",
            "12\n"
          ]
        },
        {
          "output_type": "execute_result",
          "data": {
            "text/plain": [
              "12"
            ]
          },
          "metadata": {},
          "execution_count": 12
        }
      ]
    },
    {
      "cell_type": "markdown",
      "source": [
        "d. Tipe Data Boolean"
      ],
      "metadata": {
        "id": "p4Z3LANM7V34"
      }
    },
    {
      "cell_type": "code",
      "source": [
        ">>> print(var1 == var2)\n",
        "False\n",
        ">>> print(var1 < var2)\n",
        "False\n",
        ">>> print(var1 > var2)\n",
        "True\n",
        ">>> print(var1 != var2)\n",
        "True"
      ],
      "metadata": {
        "colab": {
          "base_uri": "https://localhost:8080/"
        },
        "id": "LGqQ_ihS6BkS",
        "outputId": "e8f32ddd-2394-4402-aae6-c28741d231b3"
      },
      "execution_count": null,
      "outputs": [
        {
          "output_type": "stream",
          "name": "stdout",
          "text": [
            "False\n",
            "False\n",
            "True\n",
            "True\n"
          ]
        },
        {
          "output_type": "execute_result",
          "data": {
            "text/plain": [
              "True"
            ]
          },
          "metadata": {},
          "execution_count": 14
        }
      ]
    },
    {
      "cell_type": "markdown",
      "source": [
        "e. Tipe Data List"
      ],
      "metadata": {
        "id": "4qwPhKe97x4N"
      }
    },
    {
      "cell_type": "code",
      "source": [
        ">>> list = [\"belajar dasar python\", 2023, 3.8, True]\n",
        ">>> print(list)\n",
        "['belajar dasar python', 2023, 3.8, True]\n",
        ">>> print(list[3])\n",
        "True\n",
        ">>> print(list[1:3])\n",
        "[2023, 3.8]\n",
        ">>> print(len(list))\n"
      ],
      "metadata": {
        "colab": {
          "base_uri": "https://localhost:8080/"
        },
        "id": "uSpXX4cB6Vrn",
        "outputId": "7ff1f513-d630-449f-e8d7-c3017db2a0ef"
      },
      "execution_count": null,
      "outputs": [
        {
          "output_type": "stream",
          "name": "stdout",
          "text": [
            "['belajar dasar python', 2023, 3.8, True]\n",
            "True\n",
            "[2023, 3.8]\n",
            "4\n"
          ]
        }
      ]
    },
    {
      "cell_type": "code",
      "source": [],
      "metadata": {
        "id": "OOky9MBH6go5"
      },
      "execution_count": null,
      "outputs": []
    },
    {
      "cell_type": "markdown",
      "source": [
        "# 2. Operasi matematika menggunakan python"
      ],
      "metadata": {
        "id": "StkVJmF972IF"
      }
    },
    {
      "cell_type": "markdown",
      "source": [
        "a. Mendapatkan nilai minimum dam maksimum"
      ],
      "metadata": {
        "id": "yoswyCe78FGg"
      }
    },
    {
      "cell_type": "code",
      "source": [
        "x = min(5, 10, 25)\n",
        "y = max(6, 12, 18)\n",
        "print(x)\n",
        "print (y)"
      ],
      "metadata": {
        "colab": {
          "base_uri": "https://localhost:8080/"
        },
        "id": "wwmIh7Zm8Di-",
        "outputId": "f7f5f91b-3f8a-4377-a36f-ad88a211227c"
      },
      "execution_count": null,
      "outputs": [
        {
          "output_type": "stream",
          "name": "stdout",
          "text": [
            "5\n",
            "18\n"
          ]
        }
      ]
    },
    {
      "cell_type": "markdown",
      "source": [
        "b. Mendapatkan nilai absolut"
      ],
      "metadata": {
        "id": "wC1rD8ti8cOw"
      }
    },
    {
      "cell_type": "code",
      "source": [
        "x = abs(-7.25)\n",
        "print (x)"
      ],
      "metadata": {
        "colab": {
          "base_uri": "https://localhost:8080/"
        },
        "id": "tq42G4qk8OfD",
        "outputId": "2c26529f-ed0b-481a-9163-6401d623596a"
      },
      "execution_count": null,
      "outputs": [
        {
          "output_type": "stream",
          "name": "stdout",
          "text": [
            "7.25\n"
          ]
        }
      ]
    },
    {
      "cell_type": "markdown",
      "source": [
        "c. Mendapatkan nilai pangkat"
      ],
      "metadata": {
        "id": "oS2_cUL28qfb"
      }
    },
    {
      "cell_type": "code",
      "source": [
        "import math\n",
        "x = math.pow(4, 3)\n",
        "print (x)"
      ],
      "metadata": {
        "colab": {
          "base_uri": "https://localhost:8080/"
        },
        "id": "_qkOz9K88ayy",
        "outputId": "57352cbb-0652-410f-be93-4b8a144fc359"
      },
      "execution_count": null,
      "outputs": [
        {
          "output_type": "stream",
          "name": "stdout",
          "text": [
            "64.0\n"
          ]
        }
      ]
    },
    {
      "cell_type": "markdown",
      "source": [
        "d. Mendapatkan nilai akar"
      ],
      "metadata": {
        "id": "johqyQfB8uIi"
      }
    },
    {
      "cell_type": "code",
      "source": [
        "import math\n",
        "x = math.sqrt(64)\n",
        "print (x)"
      ],
      "metadata": {
        "colab": {
          "base_uri": "https://localhost:8080/"
        },
        "id": "fMjnDLln8pXQ",
        "outputId": "0d80c5ab-a017-4a89-f015-bdb1faa1334f"
      },
      "execution_count": null,
      "outputs": [
        {
          "output_type": "stream",
          "name": "stdout",
          "text": [
            "8.0\n"
          ]
        }
      ]
    },
    {
      "cell_type": "markdown",
      "source": [
        "e. Mendapatkan nilai pembulatan"
      ],
      "metadata": {
        "id": "GPThGx6c85AD"
      }
    },
    {
      "cell_type": "code",
      "source": [
        "import math\n",
        "x = math.ceil(1.4)\n",
        "y = math.floor(1.4)\n",
        "print (x)\n",
        "print (y)"
      ],
      "metadata": {
        "colab": {
          "base_uri": "https://localhost:8080/"
        },
        "id": "ri-5rxyK8_Fj",
        "outputId": "56c77307-4d6b-4e5a-be77-9939b3de7377"
      },
      "execution_count": null,
      "outputs": [
        {
          "output_type": "stream",
          "name": "stdout",
          "text": [
            "2\n",
            "1\n"
          ]
        }
      ]
    },
    {
      "cell_type": "markdown",
      "source": [
        "f. Mendaptkan nilai konstanta (PI)"
      ],
      "metadata": {
        "id": "MglUV2e_9FxU"
      }
    },
    {
      "cell_type": "code",
      "source": [
        "import math\n",
        "x = math.pi\n",
        "print (x)"
      ],
      "metadata": {
        "colab": {
          "base_uri": "https://localhost:8080/"
        },
        "id": "yTuJEfeZ9OV0",
        "outputId": "6f8162ee-4f76-4b28-a46d-e976c6921eea"
      },
      "execution_count": null,
      "outputs": [
        {
          "output_type": "stream",
          "name": "stdout",
          "text": [
            "3.141592653589793\n"
          ]
        }
      ]
    },
    {
      "cell_type": "markdown",
      "source": [
        "# 3. Menggunakan Fungsi MATH"
      ],
      "metadata": {
        "id": "p6PWnroE9VOH"
      }
    },
    {
      "source": [
        "import math\n",
        "\n",
        "# Fungsi Trigonometri\n",
        "angle_rad = math.pi / 4  # 45 derajat dalam radian\n",
        "\n",
        "print(\"Fungsi Trigonometri:\")\n",
        "print(f\"  Sinus dari {angle_rad} radian: {math.sin(angle_rad)}\")  # Menghitung sinus\n",
        "print(f\"  Cosinus dari {angle_rad} radian: {math.cos(angle_rad)}\") # Menghitung cosinus\n",
        "print(f\"  Tangen dari {angle_rad} radian: {math.tan(angle_rad)}\")  # Menghitung tangen\n",
        "print(\"\\n\")  # Menambahkan baris baru untuk pemisahan\n",
        "\n",
        "# Fungsi Logaritma\n",
        "number = 10\n",
        "\n",
        "print(\"Fungsi Logaritma:\")\n",
        "print(f\"  Logaritma natural dari {number}: {math.log(number)}\")   # Menghitung logaritma natural\n",
        "print(f\"  Logaritma basis-10 dari {number}: {math.log10(number)}\") # Menghitung logaritma basis-10\n",
        "print(\"\\n\")\n",
        "\n",
        "# Konversi Sudut\n",
        "print(\"Konversi Sudut:\")\n",
        "print(f\"  {angle_rad} radian sama dengan {math.degrees(angle_rad)} derajat\") # Mengubah radian ke derajat\n",
        "print(\"\\n\")\n",
        "\n",
        "# Perhitungan Jarak\n",
        "point1 = (1, 2, 3)\n",
        "point2 = (4, 5, 6)\n",
        "\n",
        "print(\"Perhitungan Jarak:\")\n",
        "print(f\"  Jarak antara {point1} dan {point2}: {math.dist(point1, point2)}\") # Menghitung jarak Euclidean\n",
        "print(\"\\n\")\n",
        "\n",
        "# Fungsi Matematika Lainnya\n",
        "number = 5\n",
        "numerator = 10\n",
        "denominator = 3\n",
        "value = float('nan')\n",
        "\n",
        "print(\"Fungsi Matematika Lainnya:\")\n",
        "print(f\"  Faktorial dari {number}: {math.factorial(number)}\") # Menghitung faktorial\n",
        "print(f\"  Sisa bagi dari {numerator} dibagi {denominator}: {math.fmod(numerator, denominator)}\") # Menghitung sisa bagi\n",
        "print(f\"  Apakah {value} NaN? {math.isnan(value)}\")  # Memeriksa apakah nilai NaN\n",
        "print(f\"  Gamma dari {number}: {math.gamma(number)}\") # Menghitung fungsi gamma"
      ],
      "cell_type": "code",
      "metadata": {
        "colab": {
          "base_uri": "https://localhost:8080/"
        },
        "id": "TaX8STr0_sSC",
        "outputId": "2c7da0d7-9e49-4829-b525-989fe5e5b3ba"
      },
      "execution_count": null,
      "outputs": [
        {
          "output_type": "stream",
          "name": "stdout",
          "text": [
            "Fungsi Trigonometri:\n",
            "  Sinus dari 0.7853981633974483 radian: 0.7071067811865475\n",
            "  Cosinus dari 0.7853981633974483 radian: 0.7071067811865476\n",
            "  Tangen dari 0.7853981633974483 radian: 0.9999999999999999\n",
            "\n",
            "\n",
            "Fungsi Logaritma:\n",
            "  Logaritma natural dari 10: 2.302585092994046\n",
            "  Logaritma basis-10 dari 10: 1.0\n",
            "\n",
            "\n",
            "Konversi Sudut:\n",
            "  0.7853981633974483 radian sama dengan 45.0 derajat\n",
            "\n",
            "\n",
            "Perhitungan Jarak:\n",
            "  Jarak antara (1, 2, 3) dan (4, 5, 6): 5.196152422706632\n",
            "\n",
            "\n",
            "Fungsi Matematika Lainnya:\n",
            "  Faktorial dari 5: 120\n",
            "  Sisa bagi dari 10 dibagi 3: 1.0\n",
            "  Apakah nan NaN? True\n",
            "  Gamma dari 5: 24.0\n"
          ]
        }
      ]
    },
    {
      "cell_type": "markdown",
      "source": [
        "# 4. Operasai matriks dan vektor dengan python"
      ],
      "metadata": {
        "id": "p9ml2LCw9pea"
      }
    },
    {
      "cell_type": "markdown",
      "source": [
        "a. Membuat matriks di python"
      ],
      "metadata": {
        "id": "wvIohf1R9wWv"
      }
    },
    {
      "cell_type": "code",
      "source": [
        "import numpy as np\n",
        "A = np.array([[80, 30, 25],\n",
        "[50, 20, 10]])\n",
        "B = np.array([[30, 60, 15],\n",
        "[10, 30, 30]])\n",
        "\n",
        "hasil = A + B\n",
        "print(hasil)"
      ],
      "metadata": {
        "colab": {
          "base_uri": "https://localhost:8080/"
        },
        "id": "EZrRQrfi9ue_",
        "outputId": "161e9e30-a809-4a20-e991-fbd039fab210"
      },
      "execution_count": null,
      "outputs": [
        {
          "output_type": "stream",
          "name": "stdout",
          "text": [
            "[[110  90  40]\n",
            " [ 60  50  40]]\n"
          ]
        }
      ]
    },
    {
      "cell_type": "markdown",
      "source": [
        "b. Melakukan operasi do product"
      ],
      "metadata": {
        "id": "GPMbi0Cz98nY"
      }
    },
    {
      "cell_type": "code",
      "source": [
        "import numpy as np\n",
        "A = np.array([10, 20, 15])\n",
        "B = np.array([16, 67, 35])\n",
        "\n",
        "hasil = np.dot(A, B)\n",
        "print(hasil)"
      ],
      "metadata": {
        "colab": {
          "base_uri": "https://localhost:8080/"
        },
        "id": "7roFVq-F93sN",
        "outputId": "1fb7f17a-d83e-4f6c-85cb-4f9f85adaff3"
      },
      "execution_count": null,
      "outputs": [
        {
          "output_type": "stream",
          "name": "stdout",
          "text": [
            "2025\n"
          ]
        }
      ]
    },
    {
      "cell_type": "markdown",
      "source": [
        "c. Melakukan operasi cross product"
      ],
      "metadata": {
        "id": "xUcI9___-XDQ"
      }
    },
    {
      "cell_type": "code",
      "source": [
        "import numpy as np\n",
        "A = np.array([10, 20, 15])\n",
        "B = np.array([16, 67, 35])\n",
        "\n",
        "Hasil = np.cross(A, B)\n",
        "print(Hasil)"
      ],
      "metadata": {
        "colab": {
          "base_uri": "https://localhost:8080/"
        },
        "id": "r6k3Rjyh-OlA",
        "outputId": "923cacce-c1c6-47a9-8e93-bfac4710a4ef"
      },
      "execution_count": null,
      "outputs": [
        {
          "output_type": "stream",
          "name": "stdout",
          "text": [
            "[-305 -110  350]\n"
          ]
        }
      ]
    },
    {
      "cell_type": "code",
      "source": [],
      "metadata": {
        "id": "JvNic6N7-cy3"
      },
      "execution_count": null,
      "outputs": []
    },
    {
      "cell_type": "markdown",
      "source": [
        "# Tugas Praktikum"
      ],
      "metadata": {
        "id": "Yr7XEaT-AJXC"
      }
    },
    {
      "cell_type": "code",
      "source": [
        "import numpy as np\n",
        "\n",
        "# Definisikan matriks A, B, dan C\n",
        "A = np.array([[3, 1], [2, 0]])\n",
        "B = np.array([[2, 1], [1, -1]])\n",
        "C = np.array([[-1, 1, 2], [2, 0, -1]])\n",
        "\n",
        "# Hitung perkalian matriks A x B\n",
        "hasil_AxB = np.dot(A, B)\n",
        "\n",
        "# Hitung perkalian matriks B x C\n",
        "hasil_BxC = np.dot(B, C)\n",
        "\n",
        "# Tampilkan hasil\n",
        "print(\"a. Hasil A x B:\")\n",
        "print(hasil_AxB)\n",
        "\n",
        "print(\"\\nb. Hasil B x C:\")\n",
        "print(hasil_BxC)"
      ],
      "metadata": {
        "colab": {
          "base_uri": "https://localhost:8080/"
        },
        "id": "1jB1IlFFAdrY",
        "outputId": "419e82b2-0dca-4d3c-b6c7-4394b5a89ae8"
      },
      "execution_count": null,
      "outputs": [
        {
          "output_type": "stream",
          "name": "stdout",
          "text": [
            "a. Hasil A x B:\n",
            "[[7 2]\n",
            " [4 2]]\n",
            "\n",
            "b. Hasil B x C:\n",
            "[[ 0  2  3]\n",
            " [-3  1  3]]\n"
          ]
        }
      ]
    },
    {
      "source": [
        "import math\n",
        "\n",
        "# a. 6!\n",
        "faktorial_6 = math.factorial(6)\n",
        "print(f\"6! = {faktorial_6}\")\n",
        "\n",
        "# b. 8! / 5!\n",
        "faktorial_8 = math.factorial(8)\n",
        "faktorial_5 = math.factorial(5)\n",
        "hasil_bagi = faktorial_8 / faktorial_5\n",
        "print(f\"8! / 5! = {hasil_bagi}\")"
      ],
      "cell_type": "code",
      "metadata": {
        "colab": {
          "base_uri": "https://localhost:8080/"
        },
        "id": "4E4sjEGtAraU",
        "outputId": "7cd3cc07-4a44-4ae3-843e-11592cad1270"
      },
      "execution_count": null,
      "outputs": [
        {
          "output_type": "stream",
          "name": "stdout",
          "text": [
            "6! = 720\n",
            "8! / 5! = 336.0\n"
          ]
        }
      ]
    },
    {
      "source": [
        "import numpy as np\n",
        "\n",
        "# Definisikan vektor A dan B\n",
        "A = np.array([5, 3, 7])\n",
        "B = np.array([12, -3, 1])\n",
        "\n",
        "# Hitung panjang vektor A dan B\n",
        "panjang_A = np.linalg.norm(A)\n",
        "panjang_B = np.linalg.norm(B)\n",
        "\n",
        "# Hitung perkalian titik (dot product) A.B\n",
        "dot_product = np.dot(A, B)\n",
        "\n",
        "# Hitung perkalian silang (cross product) AxB\n",
        "cross_product = np.cross(A, B)\n",
        "\n",
        "# Tampilkan hasil\n",
        "print(\"Panjang Vektor A:\", panjang_A)\n",
        "print(\"Panjang Vektor B:\", panjang_B)\n",
        "print(\"Perkalian Titik A.B:\", dot_product)\n",
        "print(\"Perkalian Silang AxB:\", cross_product)"
      ],
      "cell_type": "code",
      "metadata": {
        "colab": {
          "base_uri": "https://localhost:8080/"
        },
        "id": "BA0a2JHdA1Et",
        "outputId": "80404404-81e8-4880-da08-1cdbf863866f"
      },
      "execution_count": null,
      "outputs": [
        {
          "output_type": "stream",
          "name": "stdout",
          "text": [
            "Panjang Vektor A: 9.1104335791443\n",
            "Panjang Vektor B: 12.409673645990857\n",
            "Perkalian Titik A.B: 58\n",
            "Perkalian Silang AxB: [ 24  79 -51]\n"
          ]
        }
      ]
    }
  ]
}